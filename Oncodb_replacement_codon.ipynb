{
 "cells": [
  {
   "cell_type": "code",
   "execution_count": 1,
   "metadata": {},
   "outputs": [],
   "source": [
    "using Requests"
   ]
  },
  {
   "cell_type": "code",
   "execution_count": 2,
   "metadata": {},
   "outputs": [],
   "source": [
    "# single letter amino acid codes and STOP\n",
    "ipuac=\"ACDEFGHIKLMNPQRSTVWY*\";"
   ]
  },
  {
   "cell_type": "markdown",
   "metadata": {},
   "source": [
    "Make a list of all pairs of IPUAC amino acid codes including self pairings\n",
    "which represent the replacement of the first aa with the second aa."
   ]
  },
  {
   "cell_type": "code",
   "execution_count": 3,
   "metadata": {},
   "outputs": [
    {
     "data": {
      "text/plain": [
       "441"
      ]
     },
     "execution_count": 3,
     "metadata": {},
     "output_type": "execute_result"
    }
   ],
   "source": [
    "# all transitions from one aa to another (inc symmeteric)\n",
    "allalt = []\n",
    "for aa in ipuac\n",
    "    for bb in ipuac\n",
    "        # if(aa != bb)  # now including silent subsitutions   \n",
    "            push!(allalt, string(aa) * string(bb))\n",
    "        #end\n",
    "    end\n",
    "end\n",
    "length(allalt)"
   ]
  },
  {
   "cell_type": "markdown",
   "metadata": {},
   "source": [
    "Allowing silent subsitutions here means we may have to check for exactly equal codons later  \n",
    "\n",
    "```human_aa_codon_freq.txt```\n",
    "is derived from the first three columns of a table I think I got from wikiopedia   \n",
    "a year or so ago when I was thinking about gray code cubes for protien sequences.  \n",
    "I am not having luck finding the exact source just now, \n",
    "but here is a similar table from a different source  \n",
    "http://www.genscript.com/tools/codon-frequency-table  \n",
    "Here here just breaking file down into maps for  \n",
    " - amino acid to codon list \n",
    " - codon to bias\n",
    " - codon to amino acid"
   ]
  },
  {
   "cell_type": "code",
   "execution_count": 4,
   "metadata": {},
   "outputs": [],
   "source": [
    "aa_codon   = Dict{String, Array{String,1}}() \n",
    "codon_bias = Dict{String, Float64}()\n",
    "codon_aa   = Dict{String, String}()\n",
    "\n",
    "for line in readlines(\"./human_aa_codon_freq.txt\")\n",
    "    (aa, codon, freq) = split(line)\n",
    "    if haskey(aa_codon, aa)\n",
    "        push!(aa_codon[aa], codon)\n",
    "    else\n",
    "        aa_codon[aa] = [codon]\n",
    "    end\n",
    "    codon_bias[codon] =  float(freq)\n",
    "    codon_aa[codon] = aa\n",
    "end   "
   ]
  },
  {
   "cell_type": "markdown",
   "metadata": {},
   "source": [
    "Although we have generated data for all possible replacements of one\n",
    "amino acid for another, PR has indicated we will be limiting ourselves to\n",
    "replacments due to Single Nuclotide Variations (SNV)s which eliminates\n",
    "a fair number of choices.   \n",
    "It also means we could use a function to check if   \n",
    "a pair of codons differ by one nt."
   ]
  },
  {
   "cell_type": "code",
   "execution_count": 5,
   "metadata": {},
   "outputs": [
    {
     "data": {
      "text/plain": [
       "is_snv (generic function with 1 method)"
      ]
     },
     "execution_count": 5,
     "metadata": {},
     "output_type": "execute_result"
    }
   ],
   "source": [
    "# check that a reference->variant pair of codons differ only by a single nucleotide\n",
    "function is_snv(r::String, v::String)\n",
    "    n = 0\n",
    "    for i in 1:3\n",
    "        n+=r[i]==v[i]?0:1\n",
    "    end\n",
    "    return n==1\n",
    "end"
   ]
  },
  {
   "cell_type": "markdown",
   "metadata": {},
   "source": [
    "Given an amino acid replacement we want the codon choices for both reference and variant.  \n",
    "since each there can be multiple choices each with a bias,  \n",
    "we can package them up neatly as a `Composite type` which can then be named and passed around as a unit.  "
   ]
  },
  {
   "cell_type": "code",
   "execution_count": 6,
   "metadata": {},
   "outputs": [],
   "source": [
    "# By defining a Composite Type\n",
    "# we can get variable names in in the json\n",
    "type Replacement\n",
    "    ref_codon::String\n",
    "    var_codon::String\n",
    "    likelyhood::Float64\n",
    "end"
   ]
  },
  {
   "cell_type": "markdown",
   "metadata": {},
   "source": [
    "Use the composite type we just defined by creating a dictionary  \n",
    "from an IPUAC amino acid pair replacement string  \n",
    "to an array of our __Replacement__s"
   ]
  },
  {
   "cell_type": "code",
   "execution_count": 7,
   "metadata": {},
   "outputs": [],
   "source": [
    "lookup = Dict{String, Array{Replacement,1}}()\n",
    "\n",
    "scale=10000 #  to truncate decimals \n",
    "for alteration in allalt  \n",
    "    reference = string(alteration[1]) \n",
    "    variant = string(alteration[2])\n",
    "    #alteration = Key(alteration[1:2])\n",
    "    for ref_codon in aa_codon[reference]\n",
    "        #println(ref_codon)\n",
    "        for var_codon in aa_codon[variant]      \n",
    "            if is_snv(ref_codon, var_codon)\n",
    "                likelyhood = (round(codon_bias[ref_codon] * codon_bias[var_codon] * scale)/scale)\n",
    "                if haskey(lookup, alteration)                     \n",
    "                    push!(lookup[alteration], Replacement(ref_codon, var_codon, likelyhood))\n",
    "                else \n",
    "                   lookup[alteration] = [Replacement(ref_codon, var_codon, likelyhood)]\n",
    "                end\n",
    "            end\n",
    "        end\n",
    "    end\n",
    "    if haskey(lookup, alteration)\n",
    "        sort!(lookup[alteration], by = x -> x.likelyhood, rev = true)\n",
    "    end\n",
    "end"
   ]
  },
  {
   "cell_type": "code",
   "execution_count": 8,
   "metadata": {},
   "outputs": [
    {
     "data": {
      "text/plain": [
       "Dict{String,Array{Replacement,1}}"
      ]
     },
     "execution_count": 8,
     "metadata": {},
     "output_type": "execute_result"
    }
   ],
   "source": [
    "# to determine the type of the value a variable is pointing at \n",
    "typeof(lookup)"
   ]
  },
  {
   "cell_type": "code",
   "execution_count": 9,
   "metadata": {},
   "outputs": [
    {
     "data": {
      "text/plain": [
       "Associative{String,Array{Replacement,1}}"
      ]
     },
     "execution_count": 9,
     "metadata": {},
     "output_type": "execute_result"
    }
   ],
   "source": [
    "# the type system is complete and coherent (always a DAG)\n",
    "supertype(typeof(lookup))"
   ]
  },
  {
   "cell_type": "markdown",
   "metadata": {},
   "source": [
    "Dump the lookup dictionary _including our custom type_ as json for future use."
   ]
  },
  {
   "cell_type": "code",
   "execution_count": 10,
   "metadata": {},
   "outputs": [],
   "source": [
    "\n",
    "fh = open(\"replacement_codon_score.json\", \"w\")\n",
    "write(fh, JSON.json(lookup))\n",
    "close(fh)"
   ]
  },
  {
   "cell_type": "markdown",
   "metadata": {},
   "source": [
    "In practice variant nomenclature is not writ in stone yet  \n",
    "but a a good start is [HGVS](http://varnomen.hgvs.org/recommendations/general/)  \n",
    "\n",
    "basicly:  \n",
    "   - a sequence-identifier and colon \n",
    "   - a sequence type code and dot\n",
    "   - a numeric offset\n",
    "   - what changed to what  \n",
    "\n",
    "e.g. `NM_000000.0:c.12345611G>A`\n",
    "\n",
    "\n",
    "To get that last bit, we can start with a function that reports \n",
    "what changed to what and where within a pair of codons.\n",
    "then given a codon's offset into a sequence we can know the SNV's offset.\n"
   ]
  },
  {
   "cell_type": "code",
   "execution_count": 11,
   "metadata": {},
   "outputs": [
    {
     "data": {
      "text/plain": [
       "SNV (generic function with 1 method)"
      ]
     },
     "execution_count": 11,
     "metadata": {},
     "output_type": "execute_result"
    }
   ],
   "source": [
    "# define a new composite type to house \n",
    "# the transition and location (within the codon)\n",
    "type Varloc \n",
    "    index::Integer\n",
    "    transition::String\n",
    "end\n",
    "\n",
    "# report what varied where within a codon\n",
    "function SNV(r::Replacement)\n",
    "    a=r.ref_codon;b=r.var_codon\n",
    "    for i in 1:3 \n",
    "        if a[i]!=b[i] \n",
    "            return Varloc(i-1, string(a[i]) * \">\" * string(b[i])) \n",
    "        end\n",
    "    end\n",
    "end"
   ]
  },
  {
   "cell_type": "markdown",
   "metadata": {},
   "source": [
    "[Oncokb API](http://oncokb.org/#/dataAccess) is where we find the variants to try working with.\n",
    "[citation](DOI: 10.1200/PO.17.00011)"
   ]
  },
  {
   "cell_type": "code",
   "execution_count": 12,
   "metadata": {},
   "outputs": [],
   "source": [
    "# read in the Onckb variant file\n",
    "oncodb = JSON.parse(readstring(\"variants.json\"));"
   ]
  },
  {
   "cell_type": "code",
   "execution_count": 13,
   "metadata": {},
   "outputs": [
    {
     "name": "stdout",
     "output_type": "stream",
     "text": [
      "9643\n"
     ]
    }
   ],
   "source": [
    "#n = 8752;\n",
    "# pick a random record to look at\n",
    "n = Int(floor(length(oncodb)*rand()))\n",
    "println(n)"
   ]
  },
  {
   "cell_type": "code",
   "execution_count": 14,
   "metadata": {},
   "outputs": [
    {
     "data": {
      "text/plain": [
       "Dict{String,Any} with 9 entries:\n",
       "  \"uniqueId\"        => \"NFKBIA&S36Y&S36Y&MUTATION&missense_variant&36&36&S&Y\"\n",
       "  \"name\"            => \"S36Y\"\n",
       "  \"gene\"            => Dict{String,Any}(Pair{String,Any}(\"curatedIsoform\",\"ENST…\n",
       "  \"consequence\"     => Dict{String,Any}(Pair{String,Any}(\"term\",\"missense_varia…\n",
       "  \"variantResidues\" => \"Y\"\n",
       "  \"alteration\"      => \"S36Y\"\n",
       "  \"refResidues\"     => \"S\"\n",
       "  \"proteinStart\"    => 36\n",
       "  \"proteinEnd\"      => 36"
      ]
     },
     "metadata": {},
     "output_type": "display_data"
    }
   ],
   "source": [
    "display(oncodb[n])    "
   ]
  },
  {
   "cell_type": "code",
   "execution_count": 15,
   "metadata": {
    "scrolled": true
   },
   "outputs": [
    {
     "data": {
      "text/plain": [
       "Dict{String,Any} with 8 entries:\n",
       "  \"curatedIsoform\" => \"ENST00000216797\"\n",
       "  \"name\"           => \"NFKB inhibitor alpha\"\n",
       "  \"curatedRefSeq\"  => \"NM_020529.2\"\n",
       "  \"tsg\"            => false\n",
       "  \"entrezGeneId\"   => 4792\n",
       "  \"oncogene\"       => true\n",
       "  \"geneAliases\"    => Any[\"IKBA\",\"NFKBI\",\"MAD-3\"]\n",
       "  \"hugoSymbol\"     => \"NFKBIA\""
      ]
     },
     "execution_count": 15,
     "metadata": {},
     "output_type": "execute_result"
    }
   ],
   "source": [
    "oncodb[n][\"gene\"]"
   ]
  },
  {
   "cell_type": "code",
   "execution_count": 16,
   "metadata": {},
   "outputs": [
    {
     "data": {
      "text/plain": [
       "2-element Array{Replacement,1}:\n",
       " Replacement(\"TCC\",\"TAC\",0.1232)\n",
       " Replacement(\"TCT\",\"TAT\",0.0836)"
      ]
     },
     "metadata": {},
     "output_type": "display_data"
    }
   ],
   "source": [
    "k = oncodb[n][\"refResidues\"] * oncodb[n][\"variantResidues\"]\n",
    "variant_choices = lookup[k]\n",
    "# length(variant_choices)\n",
    "display(variant_choices)"
   ]
  },
  {
   "cell_type": "markdown",
   "metadata": {},
   "source": [
    "The RefSeq should give us a variant substrate sequence "
   ]
  },
  {
   "cell_type": "code",
   "execution_count": 17,
   "metadata": {},
   "outputs": [
    {
     "data": {
      "text/plain": [
       "fetch_sequence (generic function with 1 method)"
      ]
     },
     "execution_count": 17,
     "metadata": {},
     "output_type": "execute_result"
    }
   ],
   "source": [
    "function fetch_sequence(refseq_id::String)\n",
    "    # refseq_id = oncodb[n][\"gene\"][\"curatedRefSeq\"]\n",
    "    efetch = \"https://eutils.ncbi.nlm.nih.gov/entrez/eutils/efetch.fcgi?db=nuccore&rettype=fasta&retmode=text&id=\" \n",
    "    resp = get(efetch * refseq_id)\n",
    "    \n",
    "    if resp.status != 200  \n",
    "        println(\"Didnt get sequence for %s\", refseq_id) \n",
    "    end   \n",
    "    page = readstring(resp)\n",
    "    lines = split(page, \"\\n\")\n",
    "    # loose the defline  > id ,,,\n",
    "    lines[1] = \"\"\n",
    "    return join(lines)\n",
    "end        "
   ]
  },
  {
   "cell_type": "code",
   "execution_count": 18,
   "metadata": {},
   "outputs": [
    {
     "name": "stdout",
     "output_type": "stream",
     "text": [
      "7487\n",
      "Codon found is ATC which encodes Amino acid I\n",
      "Reference residue reported is V\n",
      "-3\tAGT\tS\n",
      "-2\tGTA\tV\n",
      "-1\tTAT\tY\n",
      "0\tATC\tI\n",
      "1\tTCT\tS\n",
      "2\tCTG\tL\n",
      "3\tTGG\tW\n"
     ]
    }
   ],
   "source": [
    "n = Int(floor(length(oncodb)*rand()))\n",
    "println(n)\n",
    "\n",
    "\n",
    "\n",
    "refseq_id = oncodb[n][\"gene\"][\"curatedRefSeq\"]\n",
    "seq = fetch_sequence(refseq_id)\n",
    "offset = 3 * oncodb[n][\"proteinStart\"]\n",
    "refseq_codon = seq[offset:offset + 2]\n",
    "\n",
    "println(\"Codon found is \" * refseq_codon * \" which encodes Amino acid \" * codon_aa[refseq_codon])\n",
    "println(\"Reference residue reported is \" * oncodb[n][\"refResidues\"])\n",
    "\n",
    "for i in -3:3\n",
    "    foo = offset + i\n",
    "    bar = foo + 2\n",
    "    cdn = seq[foo:bar]\n",
    "    print(i) \n",
    "    print(\"\\t\" *cdn * \"\\t\")\n",
    "    println(codon_aa[cdn] ) \n",
    "end"
   ]
  },
  {
   "cell_type": "markdown",
   "metadata": {},
   "source": [
    "This makes me sad.  \n",
    "Given the offset and a curated isoform   \n",
    "the declared reference residue does not dependably appear in   \n",
    "any nearby frame shifted window. \n",
    "\n",
    "Maybe on the wrong strand?"
   ]
  },
  {
   "cell_type": "markdown",
   "metadata": {},
   "source": [
    "http://www.ensembl.org/Homo_sapiens/DataExport/Protein?component=ProteinSeq;data_type=Transcript;db=core;g=ENSG00000157764;r=7:140719327-140924764;t=ENST00000288602\n",
    "\n",
    "\n",
    "http://www.ensembl.org/Homo_sapiens/DataExport/Protein?component=ProteinSeq;data_type=Transcript;db=core;t=ENST00000288602\n"
   ]
  },
  {
   "cell_type": "code",
   "execution_count": 19,
   "metadata": {},
   "outputs": [
    {
     "data": {
      "text/plain": [
       "Char"
      ]
     },
     "execution_count": 19,
     "metadata": {},
     "output_type": "execute_result"
    }
   ],
   "source": [
    "typeof(seq[5])"
   ]
  },
  {
   "cell_type": "code",
   "execution_count": 20,
   "metadata": {},
   "outputs": [
    {
     "data": {
      "text/plain": [
       "revcomp (generic function with 1 method)"
      ]
     },
     "execution_count": 20,
     "metadata": {},
     "output_type": "execute_result"
    }
   ],
   "source": [
    "function revcomp(seq::String)\n",
    "    complement = Dict{Char,Char}()\n",
    "    complement['G'] = 'C' \n",
    "    complement['T'] = 'A' \n",
    "    complement['A'] = 'T' \n",
    "    complement['C'] = 'G'\n",
    "    return reverse(replace(seq, '.', (x -> complement[x])))\n",
    "end    "
   ]
  },
  {
   "cell_type": "code",
   "execution_count": 21,
   "metadata": {},
   "outputs": [
    {
     "data": {
      "text/plain": [
       "\"AAAAAAAAAAAAAAAAATAAAGTTTTTTTATTAAATATTTTGCGGTAAACGAGGACAAAAGCCGTCCGAAGGTCGAAGAGACCCGAGTCCCCGGTTACGAGGGCAGTTCTGCGACCCCGTCGTCGTCGTCCCCCTCCACACCCCTTTCCCCCAAGTCTCCGGGTCTTGGAGGACGACCATAACCCTCCGTCCTCCAAATCGTATCGTCGAGAGGTCGGTCCGAGTCGGTTTGGGCCCTACCCCTGATTCGCGGTTCCAGGTTCTTCGGCTCGTCTTGGGACTGTAAACCCGGTAGTCCTGTGTCCGTGCCGTCGAGGTTCCCGTTCCCGTGCCGGGAACCTGTGCCGTGTCGTTGAGACCCGGTCCCCGGGGTACGATAGTTCCAGCTCGTGACACAGTCCGACACCGACTCGGGGTTCCGGGTTCCGGTGGTCGGATACACGGACGTGTCGGAACTCGGAACGAGTACAGACGTGGGGTCTGGGCTTCCCCTTCCTCGACCTAGGGTTACCGTCCCCCAGCACCGACTTCTGTCTTAGCGACCTCCTCGTCCACGACGACCGCAGGGGTGGTCTCCCCCTTATCCCAGGCTTCCAGTCCGCCTCCAGCTCCATGAGGAGTCTCTGCCGGTCGTCCTGGAACAGGTCGCGGAGGTGGTCGACGAACTTCCATCCGGAGACCCTCCCGCGACGCACGGTCGTGAGTGCGTAGTCGGGCATGTCGAGACCCCCCGTCACACCCCCAGCCAGGTAGGCTACAGGGAGGGCGTCGTCGCTCTTGTCGAGGAGGTGGCCCTACGGTCCTATGCCCCTCGGGGGCTCCCACTTCTAGAGGGTATCGTCCTAGGGTTTTCTGGTGTGCAGTGAGACCACACACATGTGGGCCAGTTTGTTCCGGAGCCCGCGGTAGGTGAAGTGTCCGTCCGCCGGCAACGACCAAAAGAATATCATCAGTTACACCACCTGCGGCGCCCGGTCGGGTTTCAGTCGTTAGAAGTAGTGTAACAGGAGTCAGTGGTCGTGTAACGCCCGTCGGTCCAGGGCCACCTATGTGAAGGCCCTGAGGTCTATGACGTACGGAGCCCGGTGGACCATCCGCGTCCTCTGGTCCTGACCCTTCCTCTCGCCGGGGAGTGACGAGGCTCCTGGCAGCCCCGACTCCAGCCCCGGACCCCCCGCGGCCCGGGCGTCCTTGAGGGCGTCCAAAGGGAACCGCCGCGTGAGGTGCTAGTGCATGTCCCCGGGAAGGACCCACGTCTGTGGTTCGTCCAACTACTACAAGAACACAGCCGGCTAGTCGAAGTAGTGGAGGTAGAGGCTCTGGTCCAGCCGGTCCAGGAACAGTCTCCGCAACAGAAACTCGTAGAACTGCCGGTGTCACGACCGAACCAGTCCGGCCCGTCCCAGGTACGGTTTCCGGAGACGTGCATGATGGACCGGTTTCGTCGGGAGCGGATCCCCGAAGGGTTCGTGGTCGGACAGGGCCCCCTTGAGGGTATCACCCAGCTCTCCATCTAGATCTGAGTGCTCCGGCCGCTCGTTCCGCCCCGGCGACCTCCTCTCTGCGTGCGGAGCATGGTCCCTACTCGAACTGAACGGCCTTCTCGGACTGAGGTCCCTCTTGACAGCCCGGTCTCCCTTCGCCCTCTCGAAGACGTGTCACCGCCCGCCCGCCCCCACGGCCGGCACCTCGCGGACGGGAGCTATGTCGGGCCGGTCGTCGTCCTCGTGTCGGTTCCGGTCCCTCGGGCTGCGCATGTCCTACTACAGGCATATGGACCGGAGCCCGCGACGACGCCAGGTACACCCCAGGAGGAGACCGTCGTGGCACTCGGTCCGTCTGACCATCCTCTCCGGCTACCTTAACGGACGCTCCGTCCACATGAGCGGACGCAGGAGCCGACTGTGCAAGGCGTCCATGTCCTGGAGGTGGAGACTCGATAACTACAGACGTCAGAAATCCTGAACGTGTATCCCCTTTGGCAGCCGAGGCTTCGACGACGGCAACTACTGCTACACGAAGTCGGTGACCTACACCCCGACCCGTAGCGACATGTGGAACGTGTCGTCGAGGTGCAGCGACGGGTGGTGCCGACACCACAACCGGCCCTCGGGCCGGACGTCCTACCCGGCCACGCCCCTGGCGAGGTCGTGTAGATCGTCCATCAATATCGCCTACGACGGGTGTCGCAAGAGATGGTCCGTCCACATACACGGCGCCAGGCTCCCGTGGTGCGAGAGGTAGTGCTCTGAGGTCACGACTACCGCGTCGGCTTACGGAGGTTACGCCAAGAGGGGTACTTTCCGGACAGGTAGGAATTCGGTCGCCTACCACCCGCACCCCAACGGACGTCGACCTGTCGCCTTGAACTGCCACAAGGGGCGTCCATGACGTACGTCAAAGAAGAGGTACGCGACCCCCACACAGGTCATCCCACGAACGACCCCCATTGACACGGATAAGCTCCCCAGGGATACCCTGAACCCCAGGAGTAGTAGCAACGACCTCCAGTTCCTCAGTGGACATTAGTTCCACTCTAAGACGTCCTGCTAGTACCTCGGAGCACGGTCCGTCTCCATCGCCGGTCGTAGGAGTCCATCCTTCGACCGTTAGAGATCCGCCGGGGAGGTCGGGGCATGTGCCGGTCGTCCACGGTCCGCTGACGGGAGGAACATGGTCACCGGTGGTGCGAGTCGGGCGGGTGTCGTGTCTGCGTGTCCGACGGGTTCCCGATGACAGTCGAGGACGAGAACGACGAGGTCCGACCCTCGGTCCGTCCCGAGTTCGAGGTGAAGGAGTCTCCGGAGGTCCCTGTTCTGACCTCCGGGTCCGTGTGAGTCGTCCTGGGGGTTGTCCCGGTCGTCGTCGGCGTAGAGGAAGAGTGTCGAGAGTCCCTGGGTTCGACCTGAAGGGTGGTTGACGGAAGGAGCTCGGACGCACTGAGGCGCGGGTCGTGTCCCAGGACGAGTGGACCGAGGAGGAGTGGACCGAGGAGGCGGCGGAGTGAGGGTCGAGGTCGGCCGGCGCTGGGGACGTGCGCCGTCCCAGGCGTCTGTCGGGCTCGCGAGGAGCCGGCCCTCGCTC\""
      ]
     },
     "execution_count": 21,
     "metadata": {},
     "output_type": "execute_result"
    }
   ],
   "source": [
    "revcomp(seq)"
   ]
  },
  {
   "cell_type": "code",
   "execution_count": 22,
   "metadata": {},
   "outputs": [
    {
     "data": {
      "text/plain": [
       "\"CTCGCTCCCGGCCGAGGAGCGCTCGGGCTGTCTGCGGACCCTGCCGCGTGCAGGGGTCGCGGCCGGCTGGAGCTGGGAGTGAGGCGGCGGAGGAGCCAGGTGAGGAGGAGCCAGGTGAGCAGGACCCTGTGCTGGGCGCGGAGTCACGCAGGCTCGAGGAAGGCAGTTGGTGGGAAGTCCAGCTTGGGTCCCTGAGAGCTGTGAGAAGGAGATGCGGCTGCTGCTGGCCCTGTTGGGGGTCCTGCTGAGTGTGCCTGGGCCTCCAGTCTTGTCCCTGGAGGCCTCTGAGGAAGTGGAGCTTGAGCCCTGCCTGGCTCCCAGCCTGGAGCAGCAAGAGCAGGAGCTGACAGTAGCCCTTGGGCAGCCTGTGCGTCTGTGCTGTGGGCGGGCTGAGCGTGGTGGCCACTGGTACAAGGAGGGCAGTCGCCTGGCACCTGCTGGCCGTGTACGGGGCTGGAGGGGCCGCCTAGAGATTGCCAGCTTCCTACCTGAGGATGCTGGCCGCTACCTCTGCCTGGCACGAGGCTCCATGATCGTCCTGCAGAATCTCACCTTGATTACAGGTGACTCCTTGACCTCCAGCAACGATGATGAGGACCCCAAGTCCCATAGGGACCCCTCGAATAGGCACAGTTACCCCCAGCAAGCACCCTACTGGACACACCCCCAGCGCATGGAGAAGAAACTGCATGCAGTACCTGCGGGGAACACCGTCAAGTTCCGCTGTCCAGCTGCAGGCAACCCCACGCCCACCATCCGCTGGCTTAAGGATGGACAGGCCTTTCATGGGGAGAACCGCATTGGAGGCATTCGGCTGCGCCATCAGCACTGGAGTCTCGTGATGGAGAGCGTGGTGCCCTCGGACCGCGGCACATACACCTGCCTGGTAGAGAACGCTGTGGGCAGCATCCGCTATAACTACCTGCTAGATGTGCTGGAGCGGTCCCCGCACCGGCCCATCCTGCAGGCCGGGCTCCCGGCCAACACCACAGCCGTGGTGGGCAGCGACGTGGAGCTGCTGTGCAAGGTGTACAGCGATGCCCAGCCCCACATCCAGTGGCTGAAGCACATCGTCATCAACGGCAGCAGCTTCGGAGCCGACGGTTTCCCCTATGTGCAAGTCCTAAAGACTGCAGACATCAATAGCTCAGAGGTGGAGGTCCTGTACCTGCGGAACGTGTCAGCCGAGGACGCAGGCGAGTACACCTGCCTCGCAGGCAATTCCATCGGCCTCTCCTACCAGTCTGCCTGGCTCACGGTGCTGCCAGAGGAGGACCCCACATGGACCGCAGCAGCGCCCGAGGCCAGGTATACGGACATCATCCTGTACGCGTCGGGCTCCCTGGCCTTGGCTGTGCTCCTGCTGCTGGCCGGGCTGTATCGAGGGCAGGCGCTCCACGGCCGGCACCCCCGCCCGCCCGCCACTGTGCAGAAGCTCTCCCGCTTCCCTCTGGCCCGACAGTTCTCCCTGGAGTCAGGCTCTTCCGGCAAGTCAAGCTCATCCCTGGTACGAGGCGTGCGTCTCTCCTCCAGCGGCCCCGCCTTGCTCGCCGGCCTCGTGAGTCTAGATCTACCTCTCGACCCACTATGGGAGTTCCCCCGGGACAGGCTGGTGCTTGGGAAGCCCCTAGGCGAGGGCTGCTTTGGCCAGGTAGTACGTGCAGAGGCCTTTGGCATGGACCCTGCCCGGCCTGACCAAGCCAGCACTGTGGCCGTCAAGATGCTCAAAGACAACGCCTCTGACAAGGACCTGGCCGACCTGGTCTCGGAGATGGAGGTGATGAAGCTGATCGGCCGACACAAGAACATCATCAACCTGCTTGGTGTCTGCACCCAGGAAGGGCCCCTGTACGTGATCGTGGAGTGCGCCGCCAAGGGAAACCTGCGGGAGTTCCTGCGGGCCCGGCGCCCCCCAGGCCCCGACCTCAGCCCCGACGGTCCTCGGAGCAGTGAGGGGCCGCTCTCCTTCCCAGTCCTGGTCTCCTGCGCCTACCAGGTGGCCCGAGGCATGCAGTATCTGGAGTCCCGGAAGTGTATCCACCGGGACCTGGCTGCCCGCAATGTGCTGGTGACTGAGGACAATGTGATGAAGATTGCTGACTTTGGGCTGGCCCGCGGCGTCCACCACATTGACTACTATAAGAAAACCAGCAACGGCCGCCTGCCTGTGAAGTGGATGGCGCCCGAGGCCTTGTTTGACCGGGTGTACACACACCAGAGTGACGTGTGGTCTTTTGGGATCCTGCTATGGGAGATCTTCACCCTCGGGGGCTCCCCGTATCCTGGCATCCCGGTGGAGGAGCTGTTCTCGCTGCTGCGGGAGGGACATCGGATGGACCGACCCCCACACTGCCCCCCAGAGCTGTACGGGCTGATGCGTGAGTGCTGGCACGCAGCGCCCTCCCAGAGGCCTACCTTCAAGCAGCTGGTGGAGGCGCTGGACAAGGTCCTGCTGGCCGTCTCTGAGGAGTACCTCGACCTCCGCCTGACCTTCGGACCCTATTCCCCCTCTGGTGGGGACGCCAGCAGCACCTGCTCCTCCAGCGATTCTGTCTTCAGCCACGACCCCCTGCCATTGGGATCCAGCTCCTTCCCCTTCGGGTCTGGGGTGCAGACATGAGCAAGGCTCAAGGCTGTGCAGGCACATAGGCTGGTGGCCTTGGGCCTTGGGGCTCAGCCACAGCCTGACACAGTGCTCGACCTTGATAGCATGGGGCCCCTGGCCCAGAGTTGCTGTGCCGTGTCCAAGGGCCGTGCCCTTGCCCTTGGAGCTGCCGTGCCTGTGTCCTGATGGCCCAAATGTCAGGGTTCTGCTCGGCTTCTTGGACCTTGGCGCTTAGTCCCCATCCCGGGTTTGGCTGAGCCTGGCTGGAGAGCTGCTATGCTAAACCTCCTGCCTCCCAATACCAGCAGGAGGTTCTGGGCCTCTGAACCCCCTTTCCCCACACCTCCCCCTGCTGCTGCTGCCCCAGCGTCTTGACGGGAGCATTGGCCCCTGAGCCCAGAGAAGCTGGAAGCCTGCCGAAAACAGGAGCAAATGGCGTTTTATAAATTATTTTTTTGAAATAAAAAAAAAAAAAAAAA\""
      ]
     },
     "execution_count": 22,
     "metadata": {},
     "output_type": "execute_result"
    }
   ],
   "source": [
    "seq"
   ]
  },
  {
   "cell_type": "code",
   "execution_count": 23,
   "metadata": {},
   "outputs": [
    {
     "name": "stdout",
     "output_type": "stream",
     "text": [
      "8880\n",
      "Codon found is GAA which encodes Amino acid E\n",
      "Reference residue reported is G\n",
      "-3\tGGG\tG\n",
      "-2\tGGG\tG\n",
      "-1\tGGA\tG\n",
      "0\tGAA\tE\n",
      "1\tAAG\tK\n",
      "2\tAGG\tR\n",
      "3\tGGT\tG\n"
     ]
    }
   ],
   "source": [
    "n = Int(floor(length(oncodb)*rand()))\n",
    "println(n)\n",
    "\n",
    "\n",
    "\n",
    "refseq_id = oncodb[n][\"gene\"][\"curatedRefSeq\"]\n",
    "seq = fetch_sequence(refseq_id)\n",
    "seq = revcomp(seq)\n",
    "offset = 3 * oncodb[n][\"proteinStart\"]\n",
    "refseq_codon = seq[offset:offset + 2]\n",
    "\n",
    "println(\"Codon found is \" * refseq_codon * \" which encodes Amino acid \" * codon_aa[refseq_codon])\n",
    "println(\"Reference residue reported is \" * oncodb[n][\"refResidues\"])\n",
    "\n",
    "for i in -3:3\n",
    "    foo = offset + i\n",
    "    bar = foo + 2\n",
    "    cdn = seq[foo:bar]\n",
    "    print(i) \n",
    "    print(\"\\t\" *cdn * \"\\t\")\n",
    "    println(codon_aa[cdn] ) \n",
    "end"
   ]
  },
  {
   "cell_type": "code",
   "execution_count": 24,
   "metadata": {},
   "outputs": [
    {
     "name": "stdout",
     "output_type": "stream",
     "text": [
      "Replacement(\"TCC\",\"TAC\",0.1232)\tVarloc(1,\"C>A\")\n",
      "Replacement(\"TCT\",\"TAT\",0.0836)\tVarloc(1,\"C>A\")\n"
     ]
    }
   ],
   "source": [
    "for vc in variant_choices \n",
    "    println(vc, \"\\t\", SNV(vc))\n",
    "end\n",
    "# 0 based index here"
   ]
  },
  {
   "cell_type": "code",
   "execution_count": 25,
   "metadata": {},
   "outputs": [],
   "source": [
    "# constructor\n",
    "possible_variants = Array{Varloc,1}();                          "
   ]
  },
  {
   "cell_type": "code",
   "execution_count": 26,
   "metadata": {},
   "outputs": [
    {
     "name": "stdout",
     "output_type": "stream",
     "text": [
      "Reference codon observed \tGAA\n",
      "Varloc[]\n"
     ]
    }
   ],
   "source": [
    "println(\"Reference codon observed \\t\",refseq_codon)\n",
    "println(possible_variants)"
   ]
  },
  {
   "cell_type": "code",
   "execution_count": 27,
   "metadata": {},
   "outputs": [
    {
     "ename": "LoadError",
     "evalue": "BoundsError: attempt to access 0-element Array{Varloc,1} at index [1]",
     "output_type": "error",
     "traceback": [
      "BoundsError: attempt to access 0-element Array{Varloc,1} at index [1]",
      "",
      " in getindex(::Array{Varloc,1}, ::Int64) at ./array.jl:386"
     ]
    }
   ],
   "source": [
    "refseq_id * \":c.\" * string(offset - possible_variants[1].index) * possible_variants[1].transition"
   ]
  },
  {
   "cell_type": "markdown",
   "metadata": {},
   "source": [
    "Striking out finding variants with this type of syntax \"NM_138621.4:c.459C>T\"  \n",
    "try to get them all and see how it goes "
   ]
  },
  {
   "cell_type": "code",
   "execution_count": 28,
   "metadata": {},
   "outputs": [
    {
     "ename": "LoadError",
     "evalue": "MethodError: no method matching *(::Void, ::Void)\u001b[0m\nClosest candidates are:\n  *(::Any, ::Any, \u001b[1m\u001b[31m::Any\u001b[0m, \u001b[1m\u001b[31m::Any...\u001b[0m) at operators.jl:138\u001b[0m",
     "output_type": "error",
     "traceback": [
      "MethodError: no method matching *(::Void, ::Void)\u001b[0m\nClosest candidates are:\n  *(::Any, ::Any, \u001b[1m\u001b[31m::Any\u001b[0m, \u001b[1m\u001b[31m::Any...\u001b[0m) at operators.jl:138\u001b[0m",
      "",
      " in macro expansion; at ./In[28]:6 [inlined]",
      " in anonymous at ./<missing>:?"
     ]
    }
   ],
   "source": [
    "for rec in oncodb\n",
    "    refseq_id  = rec[\"gene\"][\"curatedRefSeq\"]\n",
    "    seq = fetch_sequence(refseq_id)\n",
    "    offset = 3 * rec[\"proteinStart\"]\n",
    "    refseq_codon = seq[offset:offset+2]\n",
    "    key = rec[\"refResidues\"] * rec[\"variantResidues\"]\n",
    "    variant_choices = lookup[key]\n",
    "    rec[\"possible_allele\"]=[]\n",
    "    \n",
    "    for vc in variant_choices\n",
    "        if refseq_codon == vc.ref_codon\n",
    "            codon_snv = SNV(vc)   \n",
    "            push!(rec[\"possible_allele_id\"], \n",
    "                refseq_id * \":c.\" * string(offset - codon_snv.index) * codon_snv.transition)\n",
    "        end    \n",
    "    end\n",
    "\n",
    "    #if 1 > length(rec[\"possible_allele_id\"])\n",
    "    #    println(\"corblimy, Observed \", refseq_codon ,\" at \", offset,\n",
    "    #        \" BP within \", refseq_id, \" but it is not found in\\n\", variant_choices)\n",
    "    #end   \n",
    "end"
   ]
  },
  {
   "cell_type": "code",
   "execution_count": 29,
   "metadata": {},
   "outputs": [
    {
     "name": "stdout",
     "output_type": "stream",
     "text": [
      "\n",
      "define i8 @julia_is_snv_71655(%jl_value_t*, %jl_value_t*) #0 {\n",
      "top:\n",
      "  %2 = call i32 @jlsys_getindex_44220(%jl_value_t* %0, i64 1)\n",
      "  %3 = call i32 @jlsys_getindex_44220(%jl_value_t* %1, i64 1)\n",
      "  %4 = icmp eq i32 %2, %3\n",
      "  br i1 %4, label %if6, label %L3\n",
      "\n",
      "L3:                                               ; preds = %top, %if6\n",
      "  %\"#temp#1.0\" = phi i64 [ 0, %if6 ], [ 1, %top ]\n",
      "  %5 = call i32 @jlsys_getindex_44220(%jl_value_t* %0, i64 2)\n",
      "  %6 = call i32 @jlsys_getindex_44220(%jl_value_t* %1, i64 2)\n",
      "  %7 = icmp eq i32 %5, %6\n",
      "  br i1 %7, label %if6.1, label %L3.1\n",
      "\n",
      "if6:                                              ; preds = %top\n",
      "  br label %L3\n",
      "\n",
      "if6.1:                                            ; preds = %L3\n",
      "  br label %L3.1\n",
      "\n",
      "L3.1:                                             ; preds = %if6.1, %L3\n",
      "  %\"#temp#1.0.1\" = phi i64 [ 0, %if6.1 ], [ 1, %L3 ]\n",
      "  %8 = call i32 @jlsys_getindex_44220(%jl_value_t* %0, i64 3)\n",
      "  %9 = call i32 @jlsys_getindex_44220(%jl_value_t* %1, i64 3)\n",
      "  %10 = icmp eq i32 %8, %9\n",
      "  br i1 %10, label %if6.2, label %L3.2\n",
      "\n",
      "if6.2:                                            ; preds = %L3.1\n",
      "  br label %L3.2\n",
      "\n",
      "L3.2:                                             ; preds = %if6.2, %L3.1\n",
      "  %\"#temp#1.0.2\" = phi i64 [ 0, %if6.2 ], [ 1, %L3.1 ]\n",
      "  %11 = add nuw nsw i64 %\"#temp#1.0.1\", %\"#temp#1.0\"\n",
      "  %12 = add nuw nsw i64 %\"#temp#1.0.2\", %11\n",
      "  %13 = icmp eq i64 %12, 1\n",
      "  %14 = zext i1 %13 to i8\n",
      "  ret i8 %14\n",
      "}\n"
     ]
    }
   ],
   "source": [
    "code_llvm(is_snv, (String,String))"
   ]
  },
  {
   "cell_type": "code",
   "execution_count": 30,
   "metadata": {},
   "outputs": [
    {
     "ename": "LoadError",
     "evalue": "KeyError: key \"possible_allele_id\" not found",
     "output_type": "error",
     "traceback": [
      "KeyError: key \"possible_allele_id\" not found",
      "",
      " in getindex(::Dict{String,Any}, ::String) at ./dict.jl:688"
     ]
    }
   ],
   "source": [
    "oncodb[6][\"possible_allele_id\"]\n"
   ]
  },
  {
   "cell_type": "markdown",
   "metadata": {},
   "source": [
    "Just for fun look at how to go from go from high levle python-y script-y  \n",
    "all the way down to assembly with one of the little functions defined above"
   ]
  },
  {
   "cell_type": "code",
   "execution_count": 31,
   "metadata": {},
   "outputs": [
    {
     "name": "stdout",
     "output_type": "stream",
     "text": [
      "\t.text\n",
      "Filename: In[5]\n",
      "\tpushq\t%rbp\n",
      "\tmovq\t%rsp, %rbp\n",
      "\tpushq\t%r15\n",
      "\tpushq\t%r14\n",
      "\tpushq\t%r13\n",
      "\tpushq\t%r12\n",
      "\tpushq\t%rbx\n",
      "\tpushq\t%rax\n",
      "\tmovq\t%rsi, %r14\n",
      "\tmovq\t%rdi, %r15\n",
      "Source line: 5\n",
      "\tmovabsq\t$getindex, %r13\n",
      "\tmovl\t$1, %r12d\n",
      "\tmovl\t$1, %esi\n",
      "\tcallq\t*%r13\n",
      "\tmovl\t%eax, %ebx\n",
      "\tmovl\t$1, %esi\n",
      "\tmovq\t%r14, %rdi\n",
      "\tcallq\t*%r13\n",
      "\tcmpl\t%eax, %ebx\n",
      "\tjne\tL64\n",
      "\txorl\t%r12d, %r12d\n",
      "L64:\n",
      "\tmovq\t%r12, -48(%rbp)\n",
      "\tmovl\t$2, %esi\n",
      "\tmovq\t%r15, %rdi\n",
      "\tcallq\t*%r13\n",
      "\tmovl\t%eax, %ebx\n",
      "\tmovl\t$2, %esi\n",
      "\tmovq\t%r14, %rdi\n",
      "\tcallq\t*%r13\n",
      "\tmovl\t$1, %r12d\n",
      "\tcmpl\t%eax, %ebx\n",
      "\tjne\tL105\n",
      "\txorl\t%r12d, %r12d\n",
      "L105:\n",
      "\tmovl\t$3, %esi\n",
      "\tmovq\t%r15, %rdi\n",
      "\tcallq\t*%r13\n",
      "\tmovl\t%eax, %ebx\n",
      "\tmovl\t$3, %esi\n",
      "\tmovq\t%r14, %rdi\n",
      "\tcallq\t*%r13\n",
      "\tmovl\t$1, %ecx\n",
      "\tcmpl\t%eax, %ebx\n",
      "\tjne\tL140\n",
      "\txorl\t%ecx, %ecx\n",
      "L140:\n",
      "\taddq\t-48(%rbp), %r12\n",
      "\taddq\t%rcx, %r12\n",
      "Source line: 7\n",
      "\tcmpq\t$1, %r12\n",
      "\tsete\t%al\n",
      "\taddq\t$8, %rsp\n",
      "\tpopq\t%rbx\n",
      "\tpopq\t%r12\n",
      "\tpopq\t%r13\n",
      "\tpopq\t%r14\n",
      "\tpopq\t%r15\n",
      "\tpopq\t%rbp\n",
      "\tretq\n",
      "\tnopl\t(%rax)\n"
     ]
    }
   ],
   "source": [
    "code_native(is_snv, (String,String))"
   ]
  },
  {
   "cell_type": "markdown",
   "metadata": {},
   "source": [
    "M.Dayhoff's PAM1 \n",
    "http://www.deduveinstitute.be/~opperd/private/pam1.html"
   ]
  }
 ],
 "metadata": {
  "kernelspec": {
   "display_name": "Julia 0.5.0",
   "language": "julia",
   "name": "julia-0.5"
  },
  "language_info": {
   "file_extension": ".jl",
   "mimetype": "application/julia",
   "name": "julia",
   "version": "0.5.0"
  }
 },
 "nbformat": 4,
 "nbformat_minor": 2
}
